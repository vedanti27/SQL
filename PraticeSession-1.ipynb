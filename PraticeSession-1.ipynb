{
 "cells": [
  {
   "cell_type": "markdown",
   "id": "b927a009",
   "metadata": {},
   "source": []
  },
  {
   "cell_type": "code",
   "execution_count": 2,
   "id": "5e2ac627",
   "metadata": {},
   "outputs": [
    {
     "name": "stdout",
     "output_type": "stream",
     "text": [
      "Collecting mysql-connector-python\n",
      "  Using cached mysql_connector_python-8.4.0-py2.py3-none-any.whl.metadata (1.9 kB)\n",
      "Using cached mysql_connector_python-8.4.0-py2.py3-none-any.whl (565 kB)\n",
      "Installing collected packages: mysql-connector-python\n",
      "Successfully installed mysql-connector-python-8.4.0\n",
      "Note: you may need to restart the kernel to use updated packages.\n"
     ]
    }
   ],
   "source": [
    "\n",
    "#pip install mysql-connector-python\n",
    "\n"
   ]
  },
  {
   "cell_type": "markdown",
   "id": "7a3e6899",
   "metadata": {},
   "source": [
    "# Database CRUD operations"
   ]
  },
  {
   "cell_type": "markdown",
   "id": "bc58be9e",
   "metadata": {},
   "source": [
    "## Connect and Create Database"
   ]
  },
  {
   "cell_type": "code",
   "execution_count": 1,
   "id": "008be371",
   "metadata": {},
   "outputs": [],
   "source": [
    "import mysql.connector\n",
    "\n",
    "#database mentioned should be already created in mysql else error : Unknown database 'python_mysql'\n",
    "\n",
    "mydb=mysql.connector.connect(\n",
    "    host='localhost',\n",
    "    user='root',\n",
    "    password='12345678',\n",
    "    port=3306,\n",
    "    database='python_mysql'\n",
    ")"
   ]
  },
  {
   "cell_type": "code",
   "execution_count": null,
   "id": "d2e8414a",
   "metadata": {},
   "outputs": [],
   "source": []
  },
  {
   "cell_type": "code",
   "execution_count": 21,
   "id": "7aa197ce",
   "metadata": {},
   "outputs": [],
   "source": [
    "#creating new database, no db parameter mentioned. \n",
    "mydb2=mysql.connector.connect(\n",
    "    host='localhost',\n",
    "    user='root',\n",
    "    password='12345678',\n",
    "    port=3306\n",
    ")\n",
    "mycursor = mydb2.cursor()\n",
    "mycursor.execute(\"CREATE DATABASE student\")\n",
    "\n"
   ]
  },
  {
   "cell_type": "markdown",
   "id": "d6651652",
   "metadata": {},
   "source": [
    "## Review Databases"
   ]
  },
  {
   "cell_type": "code",
   "execution_count": 22,
   "id": "ff7b5af4",
   "metadata": {},
   "outputs": [],
   "source": [
    "mycursor.execute('SHOW DATABASES')"
   ]
  },
  {
   "cell_type": "code",
   "execution_count": 23,
   "id": "19312db9",
   "metadata": {},
   "outputs": [
    {
     "name": "stdout",
     "output_type": "stream",
     "text": [
      "('information_schema',)\n",
      "('mysql',)\n",
      "('performance_schema',)\n",
      "('python_mysql',)\n",
      "('student',)\n",
      "('sys',)\n"
     ]
    }
   ],
   "source": [
    "for db in mycursor:\n",
    "    print(db)"
   ]
  },
  {
   "cell_type": "markdown",
   "id": "c1d159f4",
   "metadata": {},
   "source": [
    "## Drop Database"
   ]
  },
  {
   "cell_type": "code",
   "execution_count": 28,
   "id": "aef6324a",
   "metadata": {},
   "outputs": [],
   "source": [
    "mycursor.execute('DROP DATABASE student')\n"
   ]
  },
  {
   "cell_type": "code",
   "execution_count": 29,
   "id": "1ef95519",
   "metadata": {},
   "outputs": [],
   "source": [
    "mycursor.execute('SHOW DATABASES')"
   ]
  },
  {
   "cell_type": "code",
   "execution_count": 30,
   "id": "d2ac7c35",
   "metadata": {},
   "outputs": [
    {
     "name": "stdout",
     "output_type": "stream",
     "text": [
      "('information_schema',)\n",
      "('mysql',)\n",
      "('performance_schema',)\n",
      "('python_mysql',)\n",
      "('sys',)\n"
     ]
    }
   ],
   "source": [
    "for db in mycursor:\n",
    "    print(db)"
   ]
  },
  {
   "cell_type": "markdown",
   "id": "568e78a4",
   "metadata": {},
   "source": [
    "# Table CRUD operations"
   ]
  },
  {
   "cell_type": "markdown",
   "id": "dab1bf00",
   "metadata": {},
   "source": [
    "## Create table and insert values"
   ]
  },
  {
   "cell_type": "code",
   "execution_count": 33,
   "id": "1c9fb7f7",
   "metadata": {},
   "outputs": [
    {
     "name": "stdout",
     "output_type": "stream",
     "text": [
      "<mysql.connector.connection.MySQLConnection object at 0x7fc6428c92e0>\n"
     ]
    }
   ],
   "source": [
    "#review db connection\n",
    "print(mydb)"
   ]
  },
  {
   "cell_type": "code",
   "execution_count": 2,
   "id": "2c1cab09",
   "metadata": {},
   "outputs": [],
   "source": [
    "#at a time only one connection can be made, run the intial connection and then this cursor\n",
    "cursor = mydb.cursor()\n"
   ]
  },
  {
   "cell_type": "markdown",
   "id": "1eca6931",
   "metadata": {},
   "source": [
    "## Creating Table"
   ]
  },
  {
   "cell_type": "code",
   "execution_count": 50,
   "id": "4bc25914",
   "metadata": {},
   "outputs": [
    {
     "data": {
      "text/plain": [
       "[]"
      ]
     },
     "execution_count": 50,
     "metadata": {},
     "output_type": "execute_result"
    }
   ],
   "source": [
    "#cursor.execute(\"drop table if exists python_mysql.student\")\n",
    "cursor.execute(\"Create table student (id int auto_increment primary key,name varchar(255),subject varchar(255))\")\n",
    "cursor.fetchall()"
   ]
  },
  {
   "cell_type": "code",
   "execution_count": 10,
   "id": "8c7389bc",
   "metadata": {},
   "outputs": [
    {
     "data": {
      "text/plain": [
       "[]"
      ]
     },
     "execution_count": 10,
     "metadata": {},
     "output_type": "execute_result"
    }
   ],
   "source": [
    "#no data hence empty list displayed\n",
    "cursor = mydb.cursor()\n",
    "cursor.execute(\"Select * from student\")\n",
    "cursor.fetchall()"
   ]
  },
  {
   "cell_type": "markdown",
   "id": "290ade51",
   "metadata": {},
   "source": [
    "## Inserting Values in Database"
   ]
  },
  {
   "cell_type": "code",
   "execution_count": 11,
   "id": "4623bb84",
   "metadata": {},
   "outputs": [
    {
     "name": "stdout",
     "output_type": "stream",
     "text": [
      "Row inserted 8\n"
     ]
    }
   ],
   "source": [
    "query = \"INSERT INTO student (name, subject) VALUES (%s, %s)\"\n",
    "value = (\"John\", \"Stats\")\n",
    "cursor.execute(query,value)\n",
    "print(\"Row inserted\",cursor.lastrowid)"
   ]
  },
  {
   "cell_type": "code",
   "execution_count": 59,
   "id": "5e4b9daa",
   "metadata": {},
   "outputs": [
    {
     "data": {
      "text/plain": [
       "[(2, 'John', 'Stats')]"
      ]
     },
     "execution_count": 59,
     "metadata": {},
     "output_type": "execute_result"
    }
   ],
   "source": [
    "cursor.execute(\"Select * from student\")\n",
    "cursor.fetchall()"
   ]
  },
  {
   "cell_type": "code",
   "execution_count": 12,
   "id": "0a1463fc",
   "metadata": {},
   "outputs": [
    {
     "name": "stdout",
     "output_type": "stream",
     "text": [
      "Row inserted 9\n"
     ]
    }
   ],
   "source": [
    "query = \"INSERT INTO student (name, subject) VALUES (%s, %s)\"\n",
    "values = [\n",
    "        (\"Joe\", \"Maths\"),\n",
    "        (\"Kim\",\"Data Science\"),\n",
    "        (\"Nancy\",\"Data Science\"),\n",
    "        (\"Kim\",\"Maths\"),\n",
    "        (\"Belly\",\"Data Science\")]\n",
    "cursor.executemany(query,values)\n",
    "print(\"Row inserted\",cursor.lastrowid)"
   ]
  },
  {
   "cell_type": "markdown",
   "id": "5ee15977",
   "metadata": {},
   "source": [
    "## Reading Tables"
   ]
  },
  {
   "cell_type": "code",
   "execution_count": 4,
   "id": "2810295c",
   "metadata": {},
   "outputs": [
    {
     "data": {
      "text/plain": [
       "[]"
      ]
     },
     "execution_count": 4,
     "metadata": {},
     "output_type": "execute_result"
    }
   ],
   "source": [
    "cursor.execute(\"Select * from student\")\n",
    "cursor.fetchall()"
   ]
  },
  {
   "cell_type": "code",
   "execution_count": 78,
   "id": "a17f9552",
   "metadata": {},
   "outputs": [],
   "source": [
    "### Fetch One Record At A time(next record where the cursor is pointed at)\n",
    "cursor.fetchone()\n"
   ]
  },
  {
   "cell_type": "code",
   "execution_count": 26,
   "id": "363df8de",
   "metadata": {},
   "outputs": [],
   "source": [
    "cursor = mydb.cursor()\n",
    "cursor.execute(\"Select * from student\")\n"
   ]
  },
  {
   "cell_type": "code",
   "execution_count": 14,
   "id": "6e9ffb2d",
   "metadata": {},
   "outputs": [
    {
     "name": "stdout",
     "output_type": "stream",
     "text": [
      "(8, 'John', 'Stats')\n",
      "(9, 'Joe', 'Maths')\n",
      "(10, 'Kim', 'Data Science')\n",
      "(11, 'Nancy', 'Data Science')\n",
      "(12, 'Kim', 'Maths')\n",
      "(13, 'Belly', 'Data Science')\n"
     ]
    }
   ],
   "source": [
    "#getting a tuples of records\n",
    "lst=cursor.fetchall()\n",
    "for records in lst:\n",
    "    print(records)"
   ]
  },
  {
   "cell_type": "code",
   "execution_count": 15,
   "id": "4549a57b",
   "metadata": {},
   "outputs": [],
   "source": [
    "#displaying conditional rows\n",
    "cursor.execute(\"Select * from student where subject='Data Science' \")"
   ]
  },
  {
   "cell_type": "code",
   "execution_count": 16,
   "id": "df4899e1",
   "metadata": {},
   "outputs": [
    {
     "data": {
      "text/plain": [
       "[(10, 'Kim', 'Data Science'),\n",
       " (11, 'Nancy', 'Data Science'),\n",
       " (13, 'Belly', 'Data Science')]"
      ]
     },
     "execution_count": 16,
     "metadata": {},
     "output_type": "execute_result"
    }
   ],
   "source": [
    "cursor.fetchall()"
   ]
  },
  {
   "cell_type": "code",
   "execution_count": 18,
   "id": "69c598ee",
   "metadata": {},
   "outputs": [],
   "source": [
    "#displaying conditional columns\n",
    "cursor.execute(\"Select name from student\")"
   ]
  },
  {
   "cell_type": "code",
   "execution_count": 19,
   "id": "e442cc90",
   "metadata": {},
   "outputs": [
    {
     "data": {
      "text/plain": [
       "[('John',), ('Joe',), ('Kim',), ('Nancy',), ('Kim',), ('Belly',)]"
      ]
     },
     "execution_count": 19,
     "metadata": {},
     "output_type": "execute_result"
    }
   ],
   "source": [
    "cursor.fetchall()"
   ]
  },
  {
   "cell_type": "code",
   "execution_count": 22,
   "id": "9efe398c",
   "metadata": {},
   "outputs": [],
   "source": [
    "#unique values \n",
    "cursor.execute(\"Select DISTINCT subject from student\")"
   ]
  },
  {
   "cell_type": "code",
   "execution_count": 23,
   "id": "914e7c20",
   "metadata": {},
   "outputs": [
    {
     "data": {
      "text/plain": [
       "[('Stats',), ('Maths',), ('Data Science',)]"
      ]
     },
     "execution_count": 23,
     "metadata": {},
     "output_type": "execute_result"
    }
   ],
   "source": [
    "cursor.fetchall()"
   ]
  },
  {
   "cell_type": "markdown",
   "id": "f7e9e95f",
   "metadata": {},
   "source": [
    "## Updating Values"
   ]
  },
  {
   "cell_type": "code",
   "execution_count": 24,
   "id": "3af9f882",
   "metadata": {},
   "outputs": [],
   "source": [
    "cursor.execute(\"update student set name='Vedanti' where name = 'kim' and subject = 'Data Science'\")"
   ]
  },
  {
   "cell_type": "code",
   "execution_count": 27,
   "id": "b4ef0c80",
   "metadata": {},
   "outputs": [
    {
     "data": {
      "text/plain": [
       "[(8, 'John', 'Stats'),\n",
       " (9, 'Joe', 'Maths'),\n",
       " (10, 'Vedanti', 'Data Science'),\n",
       " (11, 'Nancy', 'Data Science'),\n",
       " (12, 'Kim', 'Maths'),\n",
       " (13, 'Belly', 'Data Science')]"
      ]
     },
     "execution_count": 27,
     "metadata": {},
     "output_type": "execute_result"
    }
   ],
   "source": [
    "cursor.fetchall()"
   ]
  },
  {
   "cell_type": "markdown",
   "id": "3d926950",
   "metadata": {},
   "source": [
    "## Deleting records"
   ]
  },
  {
   "cell_type": "code",
   "execution_count": 28,
   "id": "15ee05b6",
   "metadata": {},
   "outputs": [],
   "source": [
    "cursor.execute(\"DROP TABLE student\") \n"
   ]
  },
  {
   "cell_type": "code",
   "execution_count": null,
   "id": "1cad7521",
   "metadata": {},
   "outputs": [],
   "source": []
  },
  {
   "cell_type": "code",
   "execution_count": null,
   "id": "047ef922",
   "metadata": {},
   "outputs": [],
   "source": []
  },
  {
   "cell_type": "code",
   "execution_count": null,
   "id": "bbf74819",
   "metadata": {},
   "outputs": [],
   "source": []
  },
  {
   "cell_type": "code",
   "execution_count": null,
   "id": "ac595ec6",
   "metadata": {},
   "outputs": [],
   "source": []
  },
  {
   "cell_type": "code",
   "execution_count": null,
   "id": "b6d30321",
   "metadata": {},
   "outputs": [],
   "source": []
  },
  {
   "cell_type": "code",
   "execution_count": null,
   "id": "2dfe73f5",
   "metadata": {},
   "outputs": [],
   "source": []
  },
  {
   "cell_type": "code",
   "execution_count": null,
   "id": "1a73c9ee",
   "metadata": {},
   "outputs": [],
   "source": []
  },
  {
   "cell_type": "code",
   "execution_count": null,
   "id": "ad746586",
   "metadata": {},
   "outputs": [],
   "source": []
  },
  {
   "cell_type": "code",
   "execution_count": null,
   "id": "385b4ab7",
   "metadata": {},
   "outputs": [],
   "source": []
  },
  {
   "cell_type": "code",
   "execution_count": null,
   "id": "121d4c04",
   "metadata": {},
   "outputs": [],
   "source": []
  },
  {
   "cell_type": "code",
   "execution_count": null,
   "id": "43b6e566",
   "metadata": {},
   "outputs": [],
   "source": []
  },
  {
   "cell_type": "code",
   "execution_count": null,
   "id": "2dbf91a3",
   "metadata": {},
   "outputs": [],
   "source": []
  },
  {
   "cell_type": "code",
   "execution_count": null,
   "id": "3ea68238",
   "metadata": {},
   "outputs": [],
   "source": []
  },
  {
   "cell_type": "code",
   "execution_count": null,
   "id": "1e2c784d",
   "metadata": {},
   "outputs": [],
   "source": []
  },
  {
   "cell_type": "code",
   "execution_count": null,
   "id": "c77f99a6",
   "metadata": {},
   "outputs": [],
   "source": []
  },
  {
   "cell_type": "code",
   "execution_count": null,
   "id": "e9fcbdf6",
   "metadata": {},
   "outputs": [],
   "source": []
  },
  {
   "cell_type": "code",
   "execution_count": null,
   "id": "b663fa90",
   "metadata": {},
   "outputs": [],
   "source": []
  },
  {
   "cell_type": "code",
   "execution_count": null,
   "id": "26a8d15f",
   "metadata": {},
   "outputs": [],
   "source": []
  },
  {
   "cell_type": "code",
   "execution_count": null,
   "id": "9d781c2a",
   "metadata": {},
   "outputs": [],
   "source": []
  },
  {
   "cell_type": "code",
   "execution_count": null,
   "id": "d692ea75",
   "metadata": {},
   "outputs": [],
   "source": []
  },
  {
   "cell_type": "code",
   "execution_count": null,
   "id": "6cf7dfa7",
   "metadata": {},
   "outputs": [],
   "source": [
    "Following Krish Naik's Video - MySQL With Python And Data Science\n",
    "\n",
    "https://www.youtube.com/watch?v=us1XyayQ6fU&list=PLZoTAELRMXVMd3RF7p-u7ezEysGaG9JmO&index=1&ab_channel=KrishNaik"
   ]
  }
 ],
 "metadata": {
  "kernelspec": {
   "display_name": "Python 3 (ipykernel)",
   "language": "python",
   "name": "python3"
  },
  "language_info": {
   "codemirror_mode": {
    "name": "ipython",
    "version": 3
   },
   "file_extension": ".py",
   "mimetype": "text/x-python",
   "name": "python",
   "nbconvert_exporter": "python",
   "pygments_lexer": "ipython3",
   "version": "3.9.12"
  }
 },
 "nbformat": 4,
 "nbformat_minor": 5
}
